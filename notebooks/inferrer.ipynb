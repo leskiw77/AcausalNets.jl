{
 "cells": [
  {
   "cell_type": "code",
   "execution_count": 1,
   "metadata": {},
   "outputs": [
    {
     "name": "stdout",
     "output_type": "stream",
     "text": [
      "\u001b[32m\u001b[1m  Updating\u001b[22m\u001b[39m registry at `~/.julia/registries/General`\n",
      "\u001b[32m\u001b[1m  Updating\u001b[22m\u001b[39m git-repo `https://github.com/JuliaRegistries/General.git`\n",
      "\u001b[2K\u001b[?25h[1mFetching:\u001b[22m\u001b[39m [========================================>]  99.9 %0.0 %]  20.2 %.0 %                          ]  34.1 % [===================>                     ]  47.2 %60.3 %>          ]  73.4 %1 %> ]  96.2 %"
     ]
    },
    {
     "name": "stderr",
     "output_type": "stream",
     "text": [
      "┌ Info: Recompiling stale cache file /home/jarema/.julia/compiled/v1.2/AcausalNets/9r06B.ji for AcausalNets [ca501d18-a2c3-11e8-250e-d5355d95c453]\n",
      "└ @ Base loading.jl:1240\n"
     ]
    }
   ],
   "source": [
    "using Pkg\n",
    "Pkg.instantiate()\n",
    "\n",
    "using AcausalNets\n",
    "using QuantumInformation\n",
    "using LightGraphs\n",
    "using LinearAlgebra\n"
   ]
  },
  {
   "cell_type": "code",
   "execution_count": 2,
   "metadata": {},
   "outputs": [
    {
     "ename": "ErrorException",
     "evalue": "Dimensions of parents/variables/distribution not matching!",
     "output_type": "error",
     "traceback": [
      "Dimensions of parents/variables/distribution not matching!",
      "",
      "Stacktrace:",
      " [1] error(::String) at ./error.jl:33",
      " [2] AcausalNets.Systems.DiscreteSystem{AbstractArray{T,2} where T}(::Array{Variable,1}, ::Array{Variable,1}, ::Array{Float64,2}) at /home/jarema/Documents/Codes/Julia/AcausalNets/src/Systems/discrete_system.jl:16",
      " [3] top-level scope at In[2]:80"
     ]
    }
   ],
   "source": [
    "import AcausalNets.Inference:\n",
    "    Evidence,\n",
    "    apply_evidence,\n",
    "    moral_graph,\n",
    "unpropagated_join_tree\n",
    "\n",
    "roA = diagm(0 =>[\n",
    "        .5, #A0\n",
    "        .5  #A1\n",
    "        ])\n",
    "\n",
    "roBwA = diagm(0 => [\n",
    "        .6, #A0, B0\n",
    "        .4, #A0, B1\n",
    "        .5, #A1, B0\n",
    "        .5, #A1, B1\n",
    "        ])\n",
    "\n",
    "roCwA = diagm(0 => [\n",
    "        .8, #A0, C0\n",
    "        .2, #A0, C1\n",
    "        .3, #A1, C0\n",
    "        .7  #A1, C1\n",
    "        ])\n",
    "\n",
    "roDwB = diagm(0 => [\n",
    "        .5, #B0, D0\n",
    "        .5, #B0, D1\n",
    "        .1, #B1, D0\n",
    "        .9  #B1, D1\n",
    "        ])\n",
    "\n",
    "roEwC = diagm(0 => [\n",
    "        .4, #C0, E0\n",
    "        .6, #C0, E1\n",
    "        .7, #C1, E0\n",
    "        .3  #C1, E1\n",
    "        ])\n",
    "\n",
    "roFwDE = diagm(0 => [\n",
    "        .01, #D0, E0, F0\n",
    "        .99, #D0, E0, F1\n",
    "        .99, #D0, E1, F0\n",
    "        .01, #D0, E1, F1\n",
    "        .99, #D1, E0, F0\n",
    "        .01, #D1, E0, F1\n",
    "        .99, #D1, E1, F0\n",
    "        .01  #D1, E1, F1\n",
    "        ])\n",
    "\n",
    "roGwC = diagm(0 => [\n",
    "        .9, #C0, G0\n",
    "        .1, #C0, G1\n",
    "        .2, #C1, G0\n",
    "        .8  #C1, G1\n",
    "        ])\n",
    "roHwEG = diagm(0 => [\n",
    "        .05, #E0, G0, H0\n",
    "        .95, #E0, G0, H1\n",
    "        .05, #E0, G1, H0\n",
    "        .95, #E0, G1, H1\n",
    "        .05, #E1, G0, H0\n",
    "        .95, #E1, G0, H1\n",
    "        .95, #E1, G1, H0\n",
    "        .05  #E1, G1, H1\n",
    "        ])\n",
    "\n",
    "roAB_different = 1/4*(ket(1,4)+ket(1,4))*(bra(1,4)+bra(1,4))+ \n",
    "1/4*(ket(3,4)+ket(1,4))*(bra(3,4)+bra(1,4))\n",
    "\n",
    "\n",
    "var_a = Variable(:a, 2)\n",
    "var_b = Variable(:b, 2)\n",
    "var_c = Variable(:c, 2)\n",
    "var_d = Variable(:d, 2)\n",
    "var_e = Variable(:e, 2)\n",
    "var_f = Variable(:f, 2)\n",
    "var_g = Variable(:g, 2)\n",
    "var_h = Variable(:h, 2)\n",
    "\n",
    "sys_c = DiscreteQuantumSystem([var_a, var_b], [var_c], roCwA)\n",
    "sys_d = DiscreteQuantumSystem([var_a, var_b], [var_d], roDwB)\n",
    "sys_e = DiscreteQuantumSystem([var_c], [var_e], roEwC)\n",
    "sys_f = DiscreteQuantumSystem([var_d, var_e], [var_f], roFwDE)\n",
    "sys_g = DiscreteQuantumSystem([var_c], [var_g], roGwC)\n",
    "sys_h = DiscreteQuantumSystem([var_e, var_g], [var_h], roHwEG)\n",
    "sys_ab = DiscreteQuantumSystem([var_a, var_b], roAB_different)\n",
    "\n",
    "\n",
    "example_an = AcausalNet()\n",
    "push!(example_an, sys_c)\n",
    "push!(example_an, sys_d)\n",
    "push!(example_an, sys_e)\n",
    "push!(example_an, sys_f)\n",
    "push!(example_an, sys_g)\n",
    "push!(example_an, sys_h)\n",
    "push!(example_an, sys_ab)\n",
    "\n",
    "using GraphPlot\n",
    "\n",
    "an = example_an\n",
    "mg = moral_graph(an)\n",
    "\n",
    "\n",
    "show(example_an)"
   ]
  },
  {
   "cell_type": "code",
   "execution_count": 3,
   "metadata": {},
   "outputs": [
    {
     "ename": "UndefVarError",
     "evalue": "UndefVarError: gplot not defined",
     "output_type": "error",
     "traceback": [
      "UndefVarError: gplot not defined",
      "",
      "Stacktrace:",
      " [1] top-level scope at In[3]:1"
     ]
    }
   ],
   "source": [
    "gplot(mg)"
   ]
  },
  {
   "cell_type": "code",
   "execution_count": 4,
   "metadata": {},
   "outputs": [
    {
     "data": {
      "text/plain": [
       "1-element Array{AcausalNets.Systems.DiscreteSystem{Array{Complex{Float64},2}},1}:\n",
       " AcausalNets.Systems.DiscreteSystem{Array{Complex{Float64},2}}(Variable[], Variable[Variable(:a, 2)], Complex{Float64}[1.0 + 0.0im 0.0 + 0.0im; 0.0 + 0.0im 0.0 + 0.0im])"
      ]
     },
     "execution_count": 4,
     "metadata": {},
     "output_type": "execute_result"
    }
   ],
   "source": [
    "a_obs = Evidence([var_a], ketbra(1,1,2))\n",
    "\n",
    "observations = Evidence{Matrix{Float64}}[] \n",
    "observations = [a_obs]"
   ]
  },
  {
   "cell_type": "code",
   "execution_count": 5,
   "metadata": {},
   "outputs": [
    {
     "ename": "UndefVarError",
     "evalue": "UndefVarError: an not defined",
     "output_type": "error",
     "traceback": [
      "UndefVarError: an not defined",
      "",
      "Stacktrace:",
      " [1] top-level scope at In[5]:2"
     ]
    }
   ],
   "source": [
    "to_infer = Variable[var_g, var_b, var_e] #, var_b]\n",
    "inferred_system, debug = infer_join_tree(an, to_infer, observations)\n",
    "inferred_system_naive, debug_naive = infer_naive(an, to_infer, observations);\n",
    "inferred_system_belief, debug_beleif = infer_belief(an, to_infer, observations);"
   ]
  },
  {
   "cell_type": "code",
   "execution_count": 6,
   "metadata": {},
   "outputs": [
    {
     "ename": "UndefVarError",
     "evalue": "UndefVarError: inferred_system not defined",
     "output_type": "error",
     "traceback": [
      "UndefVarError: inferred_system not defined",
      "",
      "Stacktrace:",
      " [1] top-level scope at In[6]:1"
     ]
    }
   ],
   "source": [
    "real(distribution(inferred_system))"
   ]
  },
  {
   "cell_type": "code",
   "execution_count": 7,
   "metadata": {},
   "outputs": [
    {
     "ename": "UndefVarError",
     "evalue": "UndefVarError: inferred_system_naive not defined",
     "output_type": "error",
     "traceback": [
      "UndefVarError: inferred_system_naive not defined",
      "",
      "Stacktrace:",
      " [1] top-level scope at In[7]:1"
     ]
    }
   ],
   "source": [
    "real(distribution(inferred_system_naive))"
   ]
  },
  {
   "cell_type": "code",
   "execution_count": 8,
   "metadata": {},
   "outputs": [
    {
     "ename": "UndefVarError",
     "evalue": "UndefVarError: inferred_system_belief not defined",
     "output_type": "error",
     "traceback": [
      "UndefVarError: inferred_system_belief not defined",
      "",
      "Stacktrace:",
      " [1] top-level scope at In[8]:1"
     ]
    }
   ],
   "source": [
    "real(distribution(inferred_system_belief))"
   ]
  },
  {
   "cell_type": "code",
   "execution_count": 9,
   "metadata": {},
   "outputs": [
    {
     "ename": "UndefVarError",
     "evalue": "UndefVarError: debug not defined",
     "output_type": "error",
     "traceback": [
      "UndefVarError: debug not defined",
      "",
      "Stacktrace:",
      " [1] top-level scope at In[9]:1"
     ]
    }
   ],
   "source": [
    "(observations_jt,propagated_jt,jt,) = debug\n",
    "(dbn,cluster,obs,evidence_cluster,inferred_cluster) = debug_naive\n",
    "show(jt)"
   ]
  },
  {
   "cell_type": "code",
   "execution_count": 10,
   "metadata": {},
   "outputs": [
    {
     "data": {
      "text/plain": [
       "3-element Array{String,1}:\n",
       " \"/home/jarema/Documents/Codes/Julia/AcausalNets/Project.toml\"\n",
       " \"/home/jarema/.julia/environments/v1.2/Project.toml\"         \n",
       " \"/home/jarema/Documents/julia-1.2.0/share/julia/stdlib/v1.2\" "
      ]
     },
     "execution_count": 10,
     "metadata": {},
     "output_type": "execute_result"
    }
   ],
   "source": [
    "Base.load_path()"
   ]
  }
 ],
 "metadata": {
  "kernelspec": {
   "display_name": "Julia 1.2.0",
   "language": "julia",
   "name": "julia-1.2"
  },
  "language_info": {
   "file_extension": ".jl",
   "mimetype": "application/julia",
   "name": "julia",
   "version": "1.2.0"
  }
 },
 "nbformat": 4,
 "nbformat_minor": 2
}
